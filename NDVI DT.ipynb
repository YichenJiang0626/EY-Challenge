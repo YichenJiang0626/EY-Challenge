{
 "cells": [
  {
   "cell_type": "code",
   "execution_count": 9,
   "id": "ffa41af4-998f-40b8-a2f0-288ccde583c2",
   "metadata": {},
   "outputs": [],
   "source": [
    "import pystac\n",
    "import pystac_client\n",
    "import odc\n",
    "from pystac_client import Client\n",
    "from pystac.extensions.eo import EOExtension as eo\n",
    "from odc.stac import stac_load\n",
    "import planetary_computer as pc\n",
    "pc.settings.set_subscription_key('85c168c81886441d89c30d0bd8613cc0')"
   ]
  },
  {
   "cell_type": "code",
   "execution_count": 95,
   "id": "76f6299a-e339-4df0-a80e-6e16ff3ec415",
   "metadata": {},
   "outputs": [],
   "source": [
    "import pandas as pd\n",
    "import numpy as np\n",
    "import xarray as xr\n",
    "import matplotlib.pyplot as plt\n",
    "from tqdm import tqdm\n",
    "scl_colormap = np.array(\n",
    "    [\n",
    "        [252,  40, 228, 255],  # 0  - NODATA - MAGENTA\n",
    "        [255,   0,   4, 255],  # 1  - Saturated or Defective - RED\n",
    "        [0  ,   0,   0, 255],  # 2  - Dark Areas - BLACK\n",
    "        [97 ,  97,  97, 255],  # 3  - Cloud Shadow - DARK GREY\n",
    "        [3  , 139,  80, 255],  # 4  - Vegetation - GREEN\n",
    "        [192, 132,  12, 255],  # 5  - Bare Ground - BROWN\n",
    "        [21 , 103, 141, 255],  # 6  - Water - BLUE\n",
    "        [117,   0,  27, 255],  # 7  - Unclassified - MAROON\n",
    "        [208, 208, 208, 255],  # 8  - Cloud - LIGHT GREY\n",
    "        [244, 244, 244, 255],  # 9  - Definitely Cloud - WHITE\n",
    "        [195, 231, 240, 255],  # 10 - Thin Cloud - LIGHT BLUE\n",
    "        [222, 157, 204, 255],  # 11 - Snow or Ice - PINK\n",
    "    ],\n",
    "    dtype=\"uint8\",\n",
    ")\n",
    "resolution = 20 # meters per pixel\n",
    "scale = resolution / 111320.0 # degrees per pixel for CRS:4326 "
   ]
  },
  {
   "cell_type": "code",
   "execution_count": 33,
   "id": "95671aad-2a37-4119-aefe-aac60a976387",
   "metadata": {},
   "outputs": [],
   "source": [
    "# Create a mask for no data, saturated data, clouds, cloud shadows, and water\n",
    "def create_cloud_mask(xx):\n",
    "    cloud_mask = \\\n",
    "        (xx.SCL != 0) & \\\n",
    "        (xx.SCL != 1) & \\\n",
    "        (xx.SCL != 3) & \\\n",
    "        (xx.SCL != 6) & \\\n",
    "        (xx.SCL != 8) & \\\n",
    "        (xx.SCL != 9) & \\\n",
    "        (xx.SCL != 10) \n",
    "    return cloud_mask"
   ]
  },
  {
   "cell_type": "code",
   "execution_count": 34,
   "id": "7745fa5b-ea1b-43bb-8698-d450ca1d7e6b",
   "metadata": {},
   "outputs": [],
   "source": [
    "crop_presence_data = pd.read_csv(\"Crop_Location_Data.csv\")\n",
    "box_size_deg = 0.000898 # Surrounding box in degrees, 5x5 pixels, 20m per pixel"
   ]
  },
  {
   "cell_type": "code",
   "execution_count": 85,
   "id": "b789312e-4040-45de-ab2d-c1485076378e",
   "metadata": {},
   "outputs": [],
   "source": [
    "def further_remove_cloud(items):\n",
    "    i = 0\n",
    "    removal_list = []\n",
    "    while i < len(items):\n",
    "        if items[i].properties['eo:cloud_cover'] > 60:\n",
    "            removal_list.append(i)\n",
    "        i += 1\n",
    "    k = 0\n",
    "    for k in range(len(removal_list)):\n",
    "        items.pop(removal_list[k]-k)\n",
    "    return items"
   ]
  },
  {
   "cell_type": "code",
   "execution_count": 121,
   "id": "5196af84-0e79-463e-9566-a2891cdffe34",
   "metadata": {},
   "outputs": [],
   "source": [
    "def get_ndvi_data(latlong, time):\n",
    "    latlong=latlong.replace('(','').replace(')','').replace(' ','').split(',')\n",
    "    min_lat = float(latlong[0]) - box_size_deg/2\n",
    "    min_long = float(latlong[1]) - box_size_deg/2\n",
    "    max_lat = float(latlong[0]) + box_size_deg/2\n",
    "    max_long = float(latlong[1]) + box_size_deg/2\n",
    "    bbox_of_interest = (min_long, min_lat, max_long, max_lat)\n",
    "    time_of_interest = time\n",
    "    catalog = pystac_client.Client.open(\"https://planetarycomputer.microsoft.com/api/stac/v1\")\n",
    "    search = catalog.search(collections=[\"sentinel-2-l2a\"], bbox=bbox_of_interest, datetime=time_of_interest)\n",
    "    items = list(search.get_all_items())\n",
    "    items = further_remove_cloud(items)\n",
    "    xx = stac_load(\n",
    "        items,\n",
    "        bands=[\"red\", \"green\", \"blue\", \"nir\", \"SCL\"],\n",
    "        crs=\"EPSG:4326\", # Latitude-Longitude\n",
    "        resolution=scale, # Degrees\n",
    "        chunks={\"x\": 2048, \"y\": 2048},\n",
    "        dtype=\"uint16\",\n",
    "        patch_url=pc.sign,\n",
    "        bbox=bbox_of_interest\n",
    "    )\n",
    "    cleaned_data = xx.where(create_cloud_mask(xx)).astype(\"uint16\")\n",
    "    mean_clean = cleaned_data.mean(dim=['longitude','latitude']).compute()\n",
    "    ndvi_mean_clean = (mean_clean.nir-mean_clean.red)/(mean_clean.nir+mean_clean.red)\n",
    "    ndvi_mean_clean=ndvi_mean_clean.to_numpy()\n",
    "    ndvi_mean_clean = ndvi_mean_clean[~np.isnan(ndvi_mean_clean)]\n",
    "    try:\n",
    "        return max(ndvi_mean_clean), min(ndvi_mean_clean)\n",
    "    except ValueError:\n",
    "        return 0,0"
   ]
  },
  {
   "cell_type": "code",
   "execution_count": null,
   "id": "c9a6032b-aeea-4b39-8f92-dff5b8332fea",
   "metadata": {},
   "outputs": [
    {
     "name": "stderr",
     "output_type": "stream",
     "text": [
      " 88%|████████▊ | 528/600 [15:26<02:06,  1.75s/it]"
     ]
    }
   ],
   "source": [
    "time = \"2021-12-01/2022-04-30\"\n",
    "max_ndvis = []\n",
    "min_ndvis = []\n",
    "#max_ndvi, min_ndvi = get_ndvi_data(crop_presence_data['Latitude and Longitude'].iloc[400], time)\n",
    "for coordinates in tqdm(crop_presence_data['Latitude and Longitude']):\n",
    "    max_ndvi, min_ndvi = get_ndvi_data(coordinates, time)\n",
    "    max_ndvis.append(max_ndvi)\n",
    "    min_ndvis.append(min_ndvi)\n",
    "    \n",
    "\n",
    "crop_presence_data['max_ndvi'] = max_ndvis\n",
    "crop_presence_data['min_ndvi'] = min_ndvis\n",
    "crop_presence_data.to_csv('max_min_crop_data.csv', index=False)"
   ]
  },
  {
   "cell_type": "code",
   "execution_count": null,
   "id": "1c65d286-4305-4397-bf32-acda4964b072",
   "metadata": {},
   "outputs": [],
   "source": []
  }
 ],
 "metadata": {
  "kernelspec": {
   "display_name": "Python 3 (ipykernel)",
   "language": "python",
   "name": "python3"
  },
  "language_info": {
   "codemirror_mode": {
    "name": "ipython",
    "version": 3
   },
   "file_extension": ".py",
   "mimetype": "text/x-python",
   "name": "python",
   "nbconvert_exporter": "python",
   "pygments_lexer": "ipython3",
   "version": "3.10.6"
  }
 },
 "nbformat": 4,
 "nbformat_minor": 5
}
