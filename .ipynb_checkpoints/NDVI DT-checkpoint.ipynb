{
 "cells": [
  {
   "cell_type": "code",
   "execution_count": 9,
   "id": "ffa41af4-998f-40b8-a2f0-288ccde583c2",
   "metadata": {},
   "outputs": [],
   "source": [
    "import pystac\n",
    "import pystac_client\n",
    "import odc\n",
    "from pystac_client import Client\n",
    "from pystac.extensions.eo import EOExtension as eo\n",
    "from odc.stac import stac_load\n",
    "import planetary_computer as pc\n",
    "pc.settings.set_subscription_key('85c168c81886441d89c30d0bd8613cc0')"
   ]
  },
  {
   "cell_type": "code",
   "execution_count": 14,
   "id": "76f6299a-e339-4df0-a80e-6e16ff3ec415",
   "metadata": {},
   "outputs": [],
   "source": [
    "import pandas as pd\n",
    "import numpy as np\n",
    "import xarray as xr\n",
    "scl_colormap = np.array(\n",
    "    [\n",
    "        [252,  40, 228, 255],  # 0  - NODATA - MAGENTA\n",
    "        [255,   0,   4, 255],  # 1  - Saturated or Defective - RED\n",
    "        [0  ,   0,   0, 255],  # 2  - Dark Areas - BLACK\n",
    "        [97 ,  97,  97, 255],  # 3  - Cloud Shadow - DARK GREY\n",
    "        [3  , 139,  80, 255],  # 4  - Vegetation - GREEN\n",
    "        [192, 132,  12, 255],  # 5  - Bare Ground - BROWN\n",
    "        [21 , 103, 141, 255],  # 6  - Water - BLUE\n",
    "        [117,   0,  27, 255],  # 7  - Unclassified - MAROON\n",
    "        [208, 208, 208, 255],  # 8  - Cloud - LIGHT GREY\n",
    "        [244, 244, 244, 255],  # 9  - Definitely Cloud - WHITE\n",
    "        [195, 231, 240, 255],  # 10 - Thin Cloud - LIGHT BLUE\n",
    "        [222, 157, 204, 255],  # 11 - Snow or Ice - PINK\n",
    "    ],\n",
    "    dtype=\"uint8\",\n",
    ")"
   ]
  },
  {
   "cell_type": "code",
   "execution_count": 18,
   "id": "95671aad-2a37-4119-aefe-aac60a976387",
   "metadata": {},
   "outputs": [],
   "source": [
    "# Create a mask for no data, saturated data, clouds, cloud shadows, and water\n",
    "def create_cloud_mask(xx):\n",
    "    cloud_mask = \\\n",
    "        (xx.SCL != 0) & \\\n",
    "        (xx.SCL != 1) & \\\n",
    "        (xx.SCL != 3) & \\\n",
    "        (xx.SCL != 6) & \\\n",
    "        (xx.SCL != 8) & \\\n",
    "        (xx.SCL != 9) & \\\n",
    "        (xx.SCL != 10) \n",
    "    return cloud_mask"
   ]
  },
  {
   "cell_type": "code",
   "execution_count": 15,
   "id": "7745fa5b-ea1b-43bb-8698-d450ca1d7e6b",
   "metadata": {},
   "outputs": [],
   "source": [
    "crop_presence_data = pd.read_csv(\"Crop_Location_Data.csv\")\n",
    "box_size_deg = 0.000898 # Surrounding box in degrees, 5x5 pixels, 20m per pixel"
   ]
  },
  {
   "cell_type": "code",
   "execution_count": 16,
   "id": "b789312e-4040-45de-ab2d-c1485076378e",
   "metadata": {},
   "outputs": [],
   "source": [
    "def colorize(xx, colormap):\n",
    "    return xr.DataArray(colormap[xx.data], coords=xx.coords, dims=(*xx.dims, \"band\"))"
   ]
  },
  {
   "cell_type": "code",
   "execution_count": 19,
   "id": "5196af84-0e79-463e-9566-a2891cdffe34",
   "metadata": {},
   "outputs": [],
   "source": [
    "def get_ndvi_data(latlong, time):\n",
    "    latlong=latlong.replace('(','').replace(')','').replace(' ','').split(',')\n",
    "    min_lat = float(latlong[0]) - box_size_deg/2\n",
    "    min_long = float(latlong[1]) - box_size_deg/2\n",
    "    max_lat = float(latlong[0]) + box_size_deg/2\n",
    "    max_long = float(latlong[1]) + box_size_deg/2\n",
    "    bbox_of_interest = (min_lat, min_long, max_lat, max_long)\n",
    "    time_of_interest = time\n",
    "    catalog = pystac_client.Client.open(\"https://planetarycomputer.microsoft.com/api/stac/v1\")\n",
    "    search = stac.search(collections=[\"sentinel-2-l2a\"], bbox=bbox_of_interest, datetime=time_of_interest)\n",
    "    items = list(search.get_all_items())\n",
    "    xx = stac_load(\n",
    "        items,\n",
    "        bands=[\"red\", \"green\", \"blue\", \"nir\", \"SCL\"],\n",
    "        crs=\"EPSG:4326\", # Latitude-Longitude\n",
    "        resolution=scale, # Degrees\n",
    "        chunks={\"x\": 2048, \"y\": 2048},\n",
    "        dtype=\"uint16\",\n",
    "        patch_url=pc.sign,\n",
    "        bbox=bounds\n",
    "    )\n",
    "    cleaned_data = xx.where(cloud_mask).astype(\"uint16\")\n",
    "    scl_rgba_clean = colorize(cleaned_data.isel(time=time_of_interest).SCL.compute(), scl_colormap)\n",
    "    mean_clean = cleaned_data.mean(dim=['longitude','latitude']).compute()\n",
    "    ndvi_mean_clean = (mean_clean.nir-mean_clean.red)/(mean_clean.nir+mean_clean.red)"
   ]
  },
  {
   "cell_type": "code",
   "execution_count": null,
   "id": "c9a6032b-aeea-4b39-8f92-dff5b8332fea",
   "metadata": {},
   "outputs": [],
   "source": []
  }
 ],
 "metadata": {
  "kernelspec": {
   "display_name": "Python 3 (ipykernel)",
   "language": "python",
   "name": "python3"
  },
  "language_info": {
   "codemirror_mode": {
    "name": "ipython",
    "version": 3
   },
   "file_extension": ".py",
   "mimetype": "text/x-python",
   "name": "python",
   "nbconvert_exporter": "python",
   "pygments_lexer": "ipython3",
   "version": "3.10.6"
  }
 },
 "nbformat": 4,
 "nbformat_minor": 5
}
